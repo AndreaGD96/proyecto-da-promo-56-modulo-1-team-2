{
 "cells": [
  {
   "cell_type": "markdown",
   "id": "e84523a1",
   "metadata": {},
   "source": [
    "# Ahorcado\n",
    "\n",
    "- Reglas del juego del \"Ahorcado\":\n",
    "\n",
    "    - Un jugador elige una palabra secreta y dibuja un espacio para cada letra de la palabra.\n",
    "\n",
    "    - El otro jugador intenta adivinar letras para completar la palabra.\n",
    "\n",
    "    - Si el jugador adivinador adivina una letra correctamente, se revela en su lugar correspondiente.\n",
    "\n",
    "    - Si el jugador adivinador adivina incorrectamente, se dibuja una parte del cuerpo en la horca.\n",
    "\n",
    "    - El objetivo del jugador adivinador es adivinar la palabra antes de que se dibuje el dibujo completo en la horca.\n",
    "\n",
    "\n",
    "- Pistas para las alumnas:\n",
    "\n",
    "    1. Empieza por seleccionar una palabra secreta para que el jugador adivinador intente adivinar. Puedes crear una lista de palabras.\n",
    "\n",
    "    2. Inicializa el tablero de juego con guiones bajos (\"_\") para representar las letras no adivinadas.\n",
    "\n",
    "    3. Utiliza un bucle `while` para permitir que el jugador adivinador haga múltiples intentos hasta que adivine la palabra o se agoten los intentos.\n",
    "\n",
    "    4. Verifica si la letra adivinada por el jugador está en la palabra secreta y actualicen el tablero en consecuencia.\n",
    "\n",
    "    5. Lleva un seguimiento de las letras adivinadas y los intentos fallidos.\n",
    "\n",
    "    6. Determina las condiciones de victoria y derrota del juego, y salgan del bucle cuando se cumplan estas condiciones.\n",
    "    "
   ]
  },
  {
   "cell_type": "code",
   "execution_count": null,
   "id": "b7b8d8c9",
   "metadata": {},
   "outputs": [
    {
     "name": "stdout",
     "output_type": "stream",
     "text": [
      "Bienvenide al ahorcado\n",
      "Miriam, adivina la palabra de 4 letras: _ _ _ _\n",
      "mal, intentalo de nuevo, tienes: 5 intentos restantes\n"
     ]
    },
    {
     "ename": "ValueError",
     "evalue": "Cannot embed the '4' image format",
     "output_type": "error",
     "traceback": [
      "\u001b[1;31m---------------------------------------------------------------------------\u001b[0m",
      "\u001b[1;31mValueError\u001b[0m                                Traceback (most recent call last)",
      "Cell \u001b[1;32mIn[10], line 35\u001b[0m\n\u001b[0;32m     33\u001b[0m     \u001b[38;5;28mprint\u001b[39m(\u001b[38;5;124mf\u001b[39m\u001b[38;5;124m'\u001b[39m\u001b[38;5;124mmal, intentalo de nuevo, tienes: \u001b[39m\u001b[38;5;132;01m{\u001b[39;00mintentos\u001b[38;5;132;01m}\u001b[39;00m\u001b[38;5;124m intentos restantes\u001b[39m\u001b[38;5;124m'\u001b[39m)\n\u001b[0;32m     34\u001b[0m     \u001b[38;5;28;01mfrom\u001b[39;00m \u001b[38;5;21;01mIPython\u001b[39;00m\u001b[38;5;21;01m.\u001b[39;00m\u001b[38;5;21;01mdisplay\u001b[39;00m \u001b[38;5;28;01mimport\u001b[39;00m Image, display\n\u001b[1;32m---> 35\u001b[0m     display(Image(filename\u001b[38;5;241m=\u001b[39m\u001b[38;5;124m'\u001b[39m\u001b[38;5;124m4\u001b[39m\u001b[38;5;124m'\u001b[39m))\n\u001b[0;32m     36\u001b[0m \u001b[38;5;28;01melif\u001b[39;00m intentos \u001b[38;5;241m==\u001b[39m \u001b[38;5;241m4\u001b[39m:\n\u001b[0;32m     37\u001b[0m     \u001b[38;5;28mprint\u001b[39m(\u001b[38;5;124mf\u001b[39m\u001b[38;5;124m'\u001b[39m\u001b[38;5;124mmal, intentalo de nuevo, tienes: \u001b[39m\u001b[38;5;132;01m{\u001b[39;00mintentos\u001b[38;5;132;01m}\u001b[39;00m\u001b[38;5;124m intentos restantes, \u001b[39m\u001b[38;5;132;01m{\u001b[39;00mjugador_palabra_secreta\u001b[38;5;132;01m}\u001b[39;00m\u001b[38;5;124m ha dibujado el cuerpo\u001b[39m\u001b[38;5;124m'\u001b[39m)\n",
      "File \u001b[1;32mc:\\Users\\miria\\anaconda3\\Lib\\site-packages\\IPython\\core\\display.py:961\u001b[0m, in \u001b[0;36mImage.__init__\u001b[1;34m(self, data, url, filename, format, embed, width, height, retina, unconfined, metadata, alt)\u001b[0m\n\u001b[0;32m    958\u001b[0m \u001b[38;5;28mself\u001b[39m\u001b[38;5;241m.\u001b[39membed \u001b[38;5;241m=\u001b[39m embed \u001b[38;5;28;01mif\u001b[39;00m embed \u001b[38;5;129;01mis\u001b[39;00m \u001b[38;5;129;01mnot\u001b[39;00m \u001b[38;5;28;01mNone\u001b[39;00m \u001b[38;5;28;01melse\u001b[39;00m (url \u001b[38;5;129;01mis\u001b[39;00m \u001b[38;5;28;01mNone\u001b[39;00m)\n\u001b[0;32m    960\u001b[0m \u001b[38;5;28;01mif\u001b[39;00m \u001b[38;5;28mself\u001b[39m\u001b[38;5;241m.\u001b[39membed \u001b[38;5;129;01mand\u001b[39;00m \u001b[38;5;28mself\u001b[39m\u001b[38;5;241m.\u001b[39mformat \u001b[38;5;129;01mnot\u001b[39;00m \u001b[38;5;129;01min\u001b[39;00m \u001b[38;5;28mself\u001b[39m\u001b[38;5;241m.\u001b[39m_ACCEPTABLE_EMBEDDINGS:\n\u001b[1;32m--> 961\u001b[0m     \u001b[38;5;28;01mraise\u001b[39;00m \u001b[38;5;167;01mValueError\u001b[39;00m(\u001b[38;5;124m\"\u001b[39m\u001b[38;5;124mCannot embed the \u001b[39m\u001b[38;5;124m'\u001b[39m\u001b[38;5;132;01m%s\u001b[39;00m\u001b[38;5;124m'\u001b[39m\u001b[38;5;124m image format\u001b[39m\u001b[38;5;124m\"\u001b[39m \u001b[38;5;241m%\u001b[39m (\u001b[38;5;28mself\u001b[39m\u001b[38;5;241m.\u001b[39mformat))\n\u001b[0;32m    962\u001b[0m \u001b[38;5;28;01mif\u001b[39;00m \u001b[38;5;28mself\u001b[39m\u001b[38;5;241m.\u001b[39membed:\n\u001b[0;32m    963\u001b[0m     \u001b[38;5;28mself\u001b[39m\u001b[38;5;241m.\u001b[39m_mimetype \u001b[38;5;241m=\u001b[39m \u001b[38;5;28mself\u001b[39m\u001b[38;5;241m.\u001b[39m_MIMETYPES\u001b[38;5;241m.\u001b[39mget(\u001b[38;5;28mself\u001b[39m\u001b[38;5;241m.\u001b[39mformat)\n",
      "\u001b[1;31mValueError\u001b[0m: Cannot embed the '4' image format"
     ]
    }
   ],
   "source": [
    "\n",
    "print('Bienvenide al ahorcado')\n",
    "jugador_adivinador = input('introduce el nombre del jugador adivinador').capitalize()\n",
    "jugador_palabra_secreta = input('introduce el nombre del jugador que pondra la palabra secreta').capitalize()\n",
    "\n",
    "palabra_secreta = input(f'{jugador_palabra_secreta} cual es tu palabra secreta').lower()\n",
    "\n",
    "# cuantas letras tiene la palabra secreta para imprimir los espacios con barras bajas\n",
    "palabra_oculta = list(\"_\" * len(palabra_secreta)) # genera guiones por cada letra\n",
    "print(f'{jugador_adivinador}, adivina la palabra de {len(palabra_secreta)} letras: {' '.join(palabra_oculta)}')\n",
    "\n",
    "intentos = 6\n",
    "# cada vez que letra_adivinar != letras_palabra entonces intentos -= 1 y cuando intentos == 0 pierde el jugador_adivinador\n",
    "\n",
    "\n",
    "while intentos != 1:\n",
    "    letra_adivinar = input('introduce una letra o la palabra secreta').lower()\n",
    "    if letra_adivinar == palabra_secreta:\n",
    "        print(f'has acertado la palabra secreta era: {palabra_secreta}')\n",
    "        break\n",
    "    elif letra_adivinar in palabra_secreta:\n",
    "        palabra_oculta[palabra_secreta.index(letra_adivinar)] = letra_adivinar\n",
    "        print(' '.join(palabra_oculta))\n",
    "        \n",
    "        continue\n",
    "        \n",
    "        #for letra_adivinar in palabra_secreta:\n",
    "\n",
    "        \n",
    "    else: \n",
    "        intentos -= 1\n",
    "        \n",
    "        print(f'mal, intentalo de nuevo, tienes: {intentos} intentos restantes')\n",
    "            \n",
    "        \n",
    "print(f'{jugador_palabra_secreta} gana la partida')\n",
    "\n",
    "   # reemplazaar el guion por la letra adivinada\n",
    "   \n",
    "   # una vez tengas la palabra clara poder introducirla entera\n",
    "\n"
   ]
  },
  {
   "cell_type": "code",
   "execution_count": 14,
   "id": "2beffe05",
   "metadata": {},
   "outputs": [
    {
     "name": "stdout",
     "output_type": "stream",
     "text": [
      "_ _ _ _ \n"
     ]
    }
   ],
   "source": [
    "palabra_secreta = input('cual es tu palabra secreta').lower()\n",
    "palabra_oculta = \"_ \" * len(palabra_secreta)\n",
    "print(palabra_oculta)"
   ]
  },
  {
   "cell_type": "code",
   "execution_count": 6,
   "id": "cfe5fdc6",
   "metadata": {},
   "outputs": [
    {
     "name": "stdout",
     "output_type": "stream",
     "text": [
      "['_', '_', '_', '_']\n"
     ]
    }
   ],
   "source": [
    "palabra_secreta = 'roma'\n",
    "palabra_oculta = list(\"_\" * len(palabra_secreta))\n",
    "print(palabra_oculta)"
   ]
  },
  {
   "cell_type": "code",
   "execution_count": 11,
   "id": "0472f3ff",
   "metadata": {},
   "outputs": [
    {
     "name": "stdout",
     "output_type": "stream",
     "text": [
      "['r', 'o', 'm', 'a']\n"
     ]
    }
   ],
   "source": [
    "letra = input()\n",
    "palabra_oculta[palabra_secreta.index(letra)] = letra\n",
    "print(palabra_oculta)"
   ]
  },
  {
   "cell_type": "code",
   "execution_count": 12,
   "id": "21c58cd4",
   "metadata": {},
   "outputs": [
    {
     "data": {
      "text/plain": [
       "'r o m a'"
      ]
     },
     "execution_count": 12,
     "metadata": {},
     "output_type": "execute_result"
    }
   ],
   "source": [
    "' '.join(palabra_oculta)"
   ]
  }
 ],
 "metadata": {
  "kernelspec": {
   "display_name": "base",
   "language": "python",
   "name": "python3"
  },
  "language_info": {
   "codemirror_mode": {
    "name": "ipython",
    "version": 3
   },
   "file_extension": ".py",
   "mimetype": "text/x-python",
   "name": "python",
   "nbconvert_exporter": "python",
   "pygments_lexer": "ipython3",
   "version": "3.12.7"
  }
 },
 "nbformat": 4,
 "nbformat_minor": 5
}
