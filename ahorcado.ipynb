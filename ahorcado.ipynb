{
 "cells": [
  {
   "cell_type": "markdown",
   "id": "e84523a1",
   "metadata": {},
   "source": [
    "# Ahorcado\n",
    "\n",
    "- Reglas del juego del \"Ahorcado\":\n",
    "\n",
    "    - Un jugador elige una palabra secreta y dibuja un espacio para cada letra de la palabra.\n",
    "\n",
    "    - El otro jugador intenta adivinar letras para completar la palabra.\n",
    "\n",
    "    - Si el jugador adivinador adivina una letra correctamente, se revela en su lugar correspondiente.\n",
    "\n",
    "    - Si el jugador adivinador adivina incorrectamente, se dibuja una parte del cuerpo en la horca.\n",
    "\n",
    "    - El objetivo del jugador adivinador es adivinar la palabra antes de que se dibuje el dibujo completo en la horca.\n",
    "\n",
    "\n",
    "- Pistas para las alumnas:\n",
    "\n",
    "    1. Empieza por seleccionar una palabra secreta para que el jugador adivinador intente adivinar. Puedes crear una lista de palabras.\n",
    "\n",
    "    2. Inicializa el tablero de juego con guiones bajos (\"_\") para representar las letras no adivinadas.\n",
    "\n",
    "    3. Utiliza un bucle `while` para permitir que el jugador adivinador haga múltiples intentos hasta que adivine la palabra o se agoten los intentos.\n",
    "\n",
    "    4. Verifica si la letra adivinada por el jugador está en la palabra secreta y actualicen el tablero en consecuencia.\n",
    "\n",
    "    5. Lleva un seguimiento de las letras adivinadas y los intentos fallidos.\n",
    "\n",
    "    6. Determina las condiciones de victoria y derrota del juego, y salgan del bucle cuando se cumplan estas condiciones.\n",
    "    "
   ]
  },
  {
   "cell_type": "code",
   "execution_count": 3,
   "id": "b7b8d8c9",
   "metadata": {},
   "outputs": [
    {
     "name": "stdout",
     "output_type": "stream",
     "text": [
      "Bienvenide al ahorcado\n"
     ]
    },
    {
     "name": "stdout",
     "output_type": "stream",
     "text": [
      "Zara, adivina la palabra de 4 letras: _ _ _ _\n",
      "has acertado la palabra secreta era: roma\n",
      "María gana la partida\n"
     ]
    }
   ],
   "source": [
    "\n",
    "print('Bienvenide al ahorcado')\n",
    "jugador_adivinador = input('introduce el nombre del jugador adivinador').capitalize()\n",
    "jugador_palabra_secreta = input('introduce el nombre del jugador que pondra la palabra secreta').capitalize()\n",
    "\n",
    "palabra_secreta = input(f'{jugador_palabra_secreta} cual es tu palabra secreta').lower()\n",
    "\n",
    "# cuantas letras tiene la palabra secreta para imprimir los espacios con barras bajas\n",
    "palabra_oculta = list(\"_\" * len(palabra_secreta)) # genera guiones por cada letra\n",
    "print(f\"{jugador_adivinador}, adivina la palabra de {len(palabra_secreta)} letras: {' '.join(palabra_oculta)}\")\n",
    "\n",
    "intentos = 6\n",
    "# cada vez que letra_adivinar != letras_palabra entonces intentos -= 1 y cuando intentos == 0 pierde el jugador_adivinador\n",
    "\n",
    "\n",
    "while intentos != 1:\n",
    "    letra_adivinar = input('introduce una letra o la palabra secreta').lower()\n",
    "    if letra_adivinar == palabra_secreta:\n",
    "        print(f'has acertado la palabra secreta era: {palabra_secreta}')\n",
    "        break\n",
    "    elif letra_adivinar in palabra_secreta:\n",
    "        palabra_oculta[palabra_secreta.index(letra_adivinar)] = letra_adivinar\n",
    "        print(' '.join(palabra_oculta))\n",
    "        \n",
    "        continue\n",
    "        \n",
    "        #for letra_adivinar in palabra_secreta:\n",
    "\n",
    "        \n",
    "    else: \n",
    "        intentos -= 1\n",
    "        \n",
    "        print(f'mal, intentalo de nuevo, tienes: {intentos} intentos restantes')\n",
    "            \n",
    "        \n",
    "print(f'{jugador_palabra_secreta} gana la partida')\n",
    "\n",
    "   # reemplazaar el guion por la letra adivinada\n",
    "   \n",
    "   # una vez tengas la palabra clara poder introducirla entera\n",
    "\n"
   ]
  },
  {
   "cell_type": "code",
   "execution_count": null,
   "id": "2beffe05",
   "metadata": {},
   "outputs": [
    {
     "name": "stdout",
     "output_type": "stream",
     "text": [
      "_ _ _ _ \n"
     ]
    }
   ],
   "source": [
    "palabra_secreta = input('cual es tu palabra secreta').lower()\n",
    "palabra_oculta = \"_ \" * len(palabra_secreta)\n",
    "print(palabra_oculta)"
   ]
  },
  {
   "cell_type": "code",
   "execution_count": null,
   "id": "cfe5fdc6",
   "metadata": {},
   "outputs": [
    {
     "name": "stdout",
     "output_type": "stream",
     "text": [
      "['_', '_', '_', '_']\n"
     ]
    }
   ],
   "source": [
    "palabra_secreta = 'roma'\n",
    "palabra_oculta = list(\"_\" * len(palabra_secreta))\n",
    "print(palabra_oculta)"
   ]
  },
  {
   "cell_type": "code",
   "execution_count": null,
   "id": "0472f3ff",
   "metadata": {},
   "outputs": [
    {
     "name": "stdout",
     "output_type": "stream",
     "text": [
      "['r', 'o', 'm', 'a']\n"
     ]
    }
   ],
   "source": [
    "letra = input()\n",
    "palabra_oculta[palabra_secreta.index(letra)] = letra\n",
    "print(palabra_oculta)"
   ]
  },
  {
   "cell_type": "code",
   "execution_count": null,
   "id": "21c58cd4",
   "metadata": {},
   "outputs": [
    {
     "data": {
      "text/plain": [
       "'r o m a'"
      ]
     },
     "execution_count": 12,
     "metadata": {},
     "output_type": "execute_result"
    }
   ],
   "source": [
    "' '.join(palabra_oculta)"
   ]
  }
 ],
 "metadata": {
  "kernelspec": {
   "display_name": "Python 3",
   "language": "python",
   "name": "python3"
  },
  "language_info": {
   "codemirror_mode": {
    "name": "ipython",
    "version": 3
   },
   "file_extension": ".py",
   "mimetype": "text/x-python",
   "name": "python",
   "nbconvert_exporter": "python",
   "pygments_lexer": "ipython3",
   "version": "3.11.9"
  }
 },
 "nbformat": 4,
 "nbformat_minor": 5
}
