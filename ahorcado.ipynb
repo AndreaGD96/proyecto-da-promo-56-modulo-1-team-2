{
 "cells": [
  {
   "cell_type": "markdown",
   "id": "e84523a1",
   "metadata": {},
   "source": [
    "# Ahorcado\n",
    "\n",
    "- Reglas del juego del \"Ahorcado\":\n",
    "\n",
    "    - Un jugador elige una palabra secreta y dibuja un espacio para cada letra de la palabra.\n",
    "\n",
    "    - El otro jugador intenta adivinar letras para completar la palabra.\n",
    "\n",
    "    - Si el jugador adivinador adivina una letra correctamente, se revela en su lugar correspondiente.\n",
    "\n",
    "    - Si el jugador adivinador adivina incorrectamente, se dibuja una parte del cuerpo en la horca.\n",
    "\n",
    "    - El objetivo del jugador adivinador es adivinar la palabra antes de que se dibuje el dibujo completo en la horca.\n",
    "\n",
    "\n",
    "- Pistas para las alumnas:\n",
    "\n",
    "    1. Empieza por seleccionar una palabra secreta para que el jugador adivinador intente adivinar. Puedes crear una lista de palabras.\n",
    "\n",
    "    2. Inicializa el tablero de juego con guiones bajos (\"_\") para representar las letras no adivinadas.\n",
    "\n",
    "    3. Utiliza un bucle `while` para permitir que el jugador adivinador haga múltiples intentos hasta que adivine la palabra o se agoten los intentos.\n",
    "\n",
    "    4. Verifica si la letra adivinada por el jugador está en la palabra secreta y actualicen el tablero en consecuencia.\n",
    "\n",
    "    5. Lleva un seguimiento de las letras adivinadas y los intentos fallidos.\n",
    "\n",
    "    6. Determina las condiciones de victoria y derrota del juego, y salgan del bucle cuando se cumplan estas condiciones.\n",
    "    "
   ]
  },
  {
   "cell_type": "code",
   "execution_count": 23,
   "id": "b7b8d8c9",
   "metadata": {},
   "outputs": [
    {
     "name": "stdout",
     "output_type": "stream",
     "text": [
      "bienvenide al ahorcado\n",
      "Andrea, adivina la palabra de 4 letras: _ _ _ _ \n",
      "mal, intentalo de nuevo, tienes: 5 intentos restantes\n",
      "mal, intentalo de nuevo, tienes: 4 intentos restantes\n",
      "mal, intentalo de nuevo, tienes: 3 intentos restantes\n",
      "mal, intentalo de nuevo, tienes: 2 intentos restantes\n",
      "mal, intentalo de nuevo, tienes: 1 intentos restantes\n",
      "Miriam gana la partida\n"
     ]
    }
   ],
   "source": [
    "\n",
    "print('bienvenide al ahorcado')\n",
    "jugador_adivinador = input('introduce el nombre del jugador adivinador').capitalize()\n",
    "jugador_palabra_secreta = input('introduce el nombre del jugador que pondra la palabra secreta').capitalize()\n",
    "\n",
    "palabra_secreta = input(f'{jugador_palabra_secreta} cual es tu palabra secreta').lower()\n",
    "\n",
    "# cuantas letras tiene la palabra secreta para imprimir los espacios con barras bajas\n",
    "palabra_oculta = \"_ \" * len(palabra_secreta) # genera guiones por cada letra\n",
    "print(f'{jugador_adivinador}, adivina la palabra de {len(palabra_secreta)} letras: {palabra_oculta}')\n",
    "\n",
    "intentos = 6\n",
    "# cada vez que letra_adivinar != letras_palabra entonces intentos -= 1 y cuando intentos == 0 pierde el jugador_adivinador\n",
    "\n",
    "letra_adivinar = input('introduce una letra').lower()\n",
    "while intentos != 1:\n",
    "    if letra_adivinar in palabra_secreta:\n",
    "        print('bien')\n",
    "    else: \n",
    "        intentos -= 1\n",
    "        print(f'mal, intentalo de nuevo, tienes: {intentos} intentos restantes')\n",
    "        letra_adivinar = input('introduce una letra').lower()\n",
    "print(f'{jugador_palabra_secreta} gana la partida')\n",
    "\n",
    "    \n",
    "\n"
   ]
  },
  {
   "cell_type": "code",
   "execution_count": 14,
   "id": "2beffe05",
   "metadata": {},
   "outputs": [
    {
     "name": "stdout",
     "output_type": "stream",
     "text": [
      "_ _ _ _ \n"
     ]
    }
   ],
   "source": [
    "palabra_secreta = input('cual es tu palabra secreta').lower()\n",
    "palabra_oculta = \"_ \" * len(palabra_secreta)\n",
    "print(palabra_oculta)"
   ]
  }
 ],
 "metadata": {
  "kernelspec": {
   "display_name": "base",
   "language": "python",
   "name": "python3"
  },
  "language_info": {
   "codemirror_mode": {
    "name": "ipython",
    "version": 3
   },
   "file_extension": ".py",
   "mimetype": "text/x-python",
   "name": "python",
   "nbconvert_exporter": "python",
   "pygments_lexer": "ipython3",
   "version": "3.12.7"
  }
 },
 "nbformat": 4,
 "nbformat_minor": 5
}
