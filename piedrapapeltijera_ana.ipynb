{
 "cells": [
  {
   "cell_type": "code",
   "execution_count": 7,
   "id": "89d0cc0d",
   "metadata": {},
   "outputs": [
    {
     "name": "stdout",
     "output_type": "stream",
     "text": [
      "Welcome to Rock-Paper-Scissor's Game!\n",
      "Select an option\n",
      "1. Paper\n",
      "2. Rock\n",
      "3. Scissor\n",
      "4. Close Game\n",
      "Please select only numbers\n",
      "Welcome to Rock-Paper-Scissor's Game!\n",
      "Select an option\n",
      "1. Paper\n",
      "2. Rock\n",
      "3. Scissor\n",
      "4. Close Game\n",
      "Please select only numbers\n",
      "Welcome to Rock-Paper-Scissor's Game!\n",
      "Select an option\n",
      "1. Paper\n",
      "2. Rock\n",
      "3. Scissor\n",
      "4. Close Game\n",
      "Please select only numbers\n",
      "Welcome to Rock-Paper-Scissor's Game!\n",
      "Select an option\n",
      "1. Paper\n",
      "2. Rock\n",
      "3. Scissor\n",
      "4. Close Game\n"
     ]
    },
    {
     "ename": "NameError",
     "evalue": "name 'option_2' is not defined",
     "output_type": "error",
     "traceback": [
      "\u001b[1;31m---------------------------------------------------------------------------\u001b[0m",
      "\u001b[1;31mNameError\u001b[0m                                 Traceback (most recent call last)",
      "Cell \u001b[1;32mIn[7], line 48\u001b[0m\n\u001b[0;32m     44\u001b[0m         \u001b[38;5;28;01melse\u001b[39;00m: \n\u001b[0;32m     45\u001b[0m             \u001b[38;5;28mprint\u001b[39m(\u001b[38;5;124m\"\u001b[39m\u001b[38;5;124mInvalid Option, Please Try Again.\u001b[39m\u001b[38;5;124m\"\u001b[39m)\n\u001b[1;32m---> 48\u001b[0m play()\n",
      "Cell \u001b[1;32mIn[7], line 22\u001b[0m, in \u001b[0;36mplay\u001b[1;34m()\u001b[0m\n\u001b[0;32m     19\u001b[0m     \u001b[38;5;28mprint\u001b[39m(\u001b[38;5;124m\"\u001b[39m\u001b[38;5;124mPlease select only numbers\u001b[39m\u001b[38;5;124m\"\u001b[39m)\n\u001b[0;32m     20\u001b[0m     \u001b[38;5;28;01mcontinue\u001b[39;00m\n\u001b[1;32m---> 22\u001b[0m \u001b[38;5;28;01mif\u001b[39;00m (option_1 \u001b[38;5;241m==\u001b[39m \u001b[38;5;241m4\u001b[39m) \u001b[38;5;129;01mor\u001b[39;00m (option_2 \u001b[38;5;241m==\u001b[39m \u001b[38;5;241m4\u001b[39m):\n\u001b[0;32m     23\u001b[0m     \u001b[38;5;28mprint\u001b[39m(\u001b[38;5;124m\"\u001b[39m\u001b[38;5;124mGame Closed\u001b[39m\u001b[38;5;124m\"\u001b[39m)\n\u001b[0;32m     24\u001b[0m     \u001b[38;5;28;01mbreak\u001b[39;00m\n",
      "\u001b[1;31mNameError\u001b[0m: name 'option_2' is not defined"
     ]
    }
   ],
   "source": [
    "#Python CLI – Rock‑Paper‑Scissors Game\n",
    "\n",
    "import random\n",
    "opciones = ('Rock','Paper','Scissor')\n",
    "def play():\n",
    "    counter = 0\n",
    "    while True:\n",
    "        print(\"Welcome to Rock-Paper-Scissor's Game!\")\n",
    "        print(\"Select an option\")\n",
    "        print(\"1. Paper\")\n",
    "        print(\"2. Rock\")\n",
    "        print(\"3. Scissor\")\n",
    "        print(\"4. Close Game\")\n",
    "        \n",
    "        try: \n",
    "            option_1 = int(input(\"Type Player 1 option:\"))\n",
    "            ordenador = random.choice(opciones)\n",
    "        except:\n",
    "            print(\"Please select only numbers\")\n",
    "            continue\n",
    "\n",
    "        if (option_1 == 4) or (option_2 == 4):\n",
    "            print(\"Game Closed\")\n",
    "            break\n",
    "        if (option_1 in [1, 2, 3]) and (option_2 in [1, 2, 3]):\n",
    "            if  ((option_1 == 1) and (option_2 == 2)) or ((option_1 == 2) and (option_2 == 1)): \n",
    "                print(\"paper and rock\")\n",
    "                print(\"Paper is the Winner!:\")\n",
    "            elif ((option_1 == 2) and (option_2 == 3)) or ((option_1 == 3) and (option_2 == 2)) : \n",
    "                print(\"rock and scissor\")\n",
    "                print(\"Rock is the Winner!\")\n",
    "            elif ((option_1 == 3) and (option_2 == 1)) or ((option_1 == 1) and (option_2 == 3)): \n",
    "                print(\"scissor and paper\")\n",
    "                print(\"Scissor is the Winner!\")\n",
    "            elif  option_1 == 1 and option_2 == 1: \n",
    "                print(\"paper and paper\")\n",
    "                print(\"No Winner, Try Again\")\n",
    "            elif  option_1 == 2 and option_2 == 2: \n",
    "                print(\"rock and rock\")\n",
    "                print(\"No Winner, Try Again\")\n",
    "            elif option_1 == 3 and option_2 == 3: \n",
    "                print(\"scissor and scissor\")\n",
    "                print(\"No Winner, Try Again\")\n",
    "        else: \n",
    "            print(\"Invalid Option, Please Try Again.\")\n",
    "\n",
    "\n",
    "play()"
   ]
  },
  {
   "cell_type": "code",
   "execution_count": 6,
   "id": "3305ce54",
   "metadata": {},
   "outputs": [
    {
     "name": "stdout",
     "output_type": "stream",
     "text": [
      "Scissor\n"
     ]
    }
   ],
   "source": [
    "import random\n",
    "opciones = ('Rock','Paper','Scissor')\n",
    "ordenador = random.choice(opciones)\n",
    "print(ordenador)"
   ]
  }
 ],
 "metadata": {
  "kernelspec": {
   "display_name": "base",
   "language": "python",
   "name": "python3"
  },
  "language_info": {
   "codemirror_mode": {
    "name": "ipython",
    "version": 3
   },
   "file_extension": ".py",
   "mimetype": "text/x-python",
   "name": "python",
   "nbconvert_exporter": "python",
   "pygments_lexer": "ipython3",
   "version": "3.12.7"
  }
 },
 "nbformat": 4,
 "nbformat_minor": 5
}
