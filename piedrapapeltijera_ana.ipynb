{
 "cells": [
  {
   "cell_type": "code",
   "execution_count": null,
   "id": "89d0cc0d",
   "metadata": {},
   "outputs": [
    {
     "name": "stdout",
     "output_type": "stream",
     "text": [
      "Welcome to Rock-Paper-Scissor's Game!\n",
      "Write an option: Rock, Paper or Scissor:\n",
      "player human option:  Rock\n",
      "player computer option:  Paper\n",
      "Player Computer Won!\n",
      "Welcome to Rock-Paper-Scissor's Game!\n",
      "Write an option: Rock, Paper or Scissor:\n",
      "player human option:  Paper\n",
      "player computer option:  Rock\n",
      "Player Human Won!\n",
      "Welcome to Rock-Paper-Scissor's Game!\n",
      "Write an option: Rock, Paper or Scissor:\n",
      "player human option:  Scissor\n",
      "player computer option:  Paper\n",
      "Player Human Won!\n"
     ]
    }
   ],
   "source": [
    "#Rock‑Paper‑Scissors Game\n",
    "\n",
    "import random\n",
    "options = ['Rock','Paper','Scissor']\n",
    "counter = 0\n",
    "\n",
    "while counter != 3:\n",
    "        print(\"Welcome to Rock-Paper-Scissor's Game!\")\n",
    "        print(\"Write an option: Rock, Paper or Scissor:\")\n",
    "        \n",
    "        player_human = input(\"Type Player 1 option:\")\n",
    "        print(\"player human option: \", player_human)\n",
    "\n",
    "        if player_human not in options:\n",
    "            print(\"Invalid option, please try again\")\n",
    "            continue\n",
    "\n",
    "        player_computer = random.choice(options)\n",
    "        print(\"player computer option: \", player_computer)\n",
    "\n",
    "        if player_human == player_computer:\n",
    "            print(\"It is a draw! Play again!\")\n",
    "            continue\n",
    "\n",
    "        if player_human == \"Rock\":\n",
    "            if player_computer == \"Scissor\":\n",
    "                print(\"Player Human Won!\")\n",
    "                counter = counter+1\n",
    "            else:\n",
    "                print(\"Player Computer Won!\")\n",
    "                counter = counter+1\n",
    "            continue\n",
    "\n",
    "        if player_human == \"Scissor\": \n",
    "            if player_computer == \"Paper\":\n",
    "                print(\"Player Human Won!\")\n",
    "                counter = counter+1\n",
    "            else:\n",
    "                print(\"Player Computer Won!\")\n",
    "                counter = counter+1\n",
    "            continue\n",
    "            \n",
    "        if player_human == \"Paper\":\n",
    "            if player_computer == \"Rock\":\n",
    "                print(\"Player Human Won!\")\n",
    "                counter = counter+1\n",
    "            else:\n",
    "                print(\"Player Computer Won!\")\n",
    "                counter = counter+1\n",
    "            continue"
   ]
  }
 ],
 "metadata": {
  "kernelspec": {
   "display_name": "Python 3",
   "language": "python",
   "name": "python3"
  },
  "language_info": {
   "codemirror_mode": {
    "name": "ipython",
    "version": 3
   },
   "file_extension": ".py",
   "mimetype": "text/x-python",
   "name": "python",
   "nbconvert_exporter": "python",
   "pygments_lexer": "ipython3",
   "version": "3.13.3"
  }
 },
 "nbformat": 4,
 "nbformat_minor": 5
}
