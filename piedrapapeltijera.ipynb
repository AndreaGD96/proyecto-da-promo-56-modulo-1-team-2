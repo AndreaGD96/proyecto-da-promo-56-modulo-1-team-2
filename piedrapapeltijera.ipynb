{
 "cells": [
  {
   "cell_type": "markdown",
   "id": "7a626927",
   "metadata": {},
   "source": [
    "JUEGO PIEDRA PAPEL TIJERA"
   ]
  },
  {
   "cell_type": "code",
   "execution_count": 3,
   "id": "d36c39ce",
   "metadata": {},
   "outputs": [
    {
     "name": "stdout",
     "output_type": "stream",
     "text": [
      "Bienvenido al juego de piedra, papel o tijera\n"
     ]
    }
   ],
   "source": [
    "print(\"Bienvenido al juego de piedra, papel o tijera\")"
   ]
  },
  {
   "cell_type": "code",
   "execution_count": 4,
   "id": "ce290d5d",
   "metadata": {},
   "outputs": [],
   "source": [
    "import random"
   ]
  },
  {
   "cell_type": "code",
   "execution_count": 27,
   "id": "8c6938eb",
   "metadata": {},
   "outputs": [],
   "source": [
    "ordenador = random.choice(opciones)"
   ]
  },
  {
   "cell_type": "code",
   "execution_count": null,
   "id": "a5ef5f18",
   "metadata": {},
   "outputs": [],
   "source": [
    "condicionantes\n",
    "\n",
    "puntos_jugador == 3:\n",
    "print(\"Ha ganado el jugador 1\")"
   ]
  },
  {
   "cell_type": "code",
   "execution_count": 1,
   "id": "467eb93b",
   "metadata": {},
   "outputs": [],
   "source": [
    "import random"
   ]
  },
  {
   "cell_type": "code",
   "execution_count": null,
   "id": "07b59899",
   "metadata": {},
   "outputs": [
    {
     "name": "stdout",
     "output_type": "stream",
     "text": [
      "piedra\n",
      "gana 1 punto el jugador\n",
      "piedra\n",
      "Puntos del jugador:1, puntos del ordenador:0\n"
     ]
    }
   ],
   "source": [
    "opciones = ['piedra','papel','tijeras']\n",
    "ordenador = random.choice(opciones)\n",
    "\n",
    "jugador = input(\"Seleccione una opción entre piedra, papel o tijeras\").lower()\n",
    "print(ordenador)\n",
    "\n",
    "puntos_jugador=0\n",
    "puntos_ordenador=0\n",
    "\n",
    "if jugador in opciones:\n",
    "    if jugador == 'piedra' and ordenador == 'papel': #de esta forma tenemos que poner todas las opciones a mano\n",
    "        puntos_ordenador +=1\n",
    "        print('gana 1 punto el ordenador')\n",
    "    elif jugador == 'piedra' and ordenador == 'piedra':\n",
    "        print('Empate') \n",
    "    elif jugador == 'piedra' and ordenador == 'tijeras':\n",
    "        puntos_jugador +=1\n",
    "        print('gana 1 punto el jugador')\n",
    "        \n",
    "    elif jugador == 'papel' and ordenador == 'papel': #de esta forma tenemos que poner todas las opciones a mano\n",
    "        print('Empate') \n",
    "    elif jugador == 'papel' and ordenador == 'piedra':\n",
    "        puntos_jugador +=1\n",
    "        print('gana 1 punto el jugador')\n",
    "    elif jugador == 'papel' and ordenador == 'tijeras':\n",
    "        puntos_ordenador +=1\n",
    "        print('gana 1 punto el ordenador')\n",
    "    jugador = input(\"Seleccione una opción entre piedra, papel o tijera\").lower()\n",
    "    ordenador = random.choice(opciones)\n",
    "    print(ordenador)\n",
    "    print(f\"Puntos del jugador:{puntos_jugador}, puntos del ordenador:{puntos_ordenador}\")\n",
    "else:\n",
    "    print('Selección no válida')\n",
    "    jugador = input(\"Seleccione una opción entre piedra, papel o tijera\").lower()"
   ]
  },
  {
   "cell_type": "code",
   "execution_count": null,
   "id": "dbfe713f",
   "metadata": {},
   "outputs": [],
   "source": []
  },
  {
   "cell_type": "code",
   "execution_count": null,
   "id": "66b9952d",
   "metadata": {},
   "outputs": [],
   "source": []
  }
 ],
 "metadata": {
  "kernelspec": {
   "display_name": "base",
   "language": "python",
   "name": "python3"
  },
  "language_info": {
   "codemirror_mode": {
    "name": "ipython",
    "version": 3
   },
   "file_extension": ".py",
   "mimetype": "text/x-python",
   "name": "python",
   "nbconvert_exporter": "python",
   "pygments_lexer": "ipython3",
   "version": "3.12.7"
  }
 },
 "nbformat": 4,
 "nbformat_minor": 5
}
