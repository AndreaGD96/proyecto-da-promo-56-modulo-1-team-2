{
 "cells": [
  {
   "cell_type": "markdown",
   "id": "260b909a",
   "metadata": {},
   "source": [
    "PREGUNTAS\n",
    "\n",
    "\n",
    "1. ¿Cuál es la capital de Egipto?\n",
    "respuesta: Cairo\n",
    "2. ¿En qué continente se pueden ver más pingüinos?\n",
    "respuesta: Antártida\n",
    "3. ¿En qué país se encuentra la torre Eifeel?\n",
    "respuesta: Francia\n",
    "4. ¿Berlín es la capital de?\n",
    "respuesta: Alemania\n",
    "5. ¿De que país son típicos los samurais?\n",
    "respuesta: Japón\n",
    "6. ¿A dónde irías si quisieses ver canguros?\n",
    "respuesta: Australia\n",
    "7. ¿A dónde irías si quisieras ver kiwis?\n",
    "respuesta: Nueva Zelanda\n",
    "8. ¿En qué país es tradición pintarse la cara el día de los muertos?\n",
    "respuesta: México\n",
    "9. ¿Tikka masala es un plato tradicional de?...\n",
    "respuesta: India\n"
   ]
  },
  {
   "cell_type": "markdown",
   "id": "f6a9b297",
   "metadata": {},
   "source": [
    "- El jugador tiene un número limitado de intentos para responder correctamente a cada pregunta.\n",
    "\n",
    "    - El juego sigue hasta que el jugador responda incorrectamente 3 de veces o haya respondido 5 preguntas correctamente.\n",
    "\n",
    "\n",
    "- Pistas para las alumnas:\n",
    "\n",
    "    1. Comienza creando un diccionario que contenga preguntas de geografía como claves y respuestas como valores.\n",
    "\n",
    "    2. Implementa una función para seleccionar una pregunta aleatoria del diccionario.\n",
    "\n",
    "    3. Utiliza un bucle `while` para hacer preguntas de geografía hasta que el jugador responda un número específico de preguntas correctamente o alcance un número máximo de respuestas incorrectas.\n",
    "\n",
    "    4. Dentro del bucle, presenta la pregunta al jugador y permita que ingresen sus respuestas.\n",
    "\n",
    "    5. Lleva un seguimiento del número de preguntas realizadas y el número de respuestas correctas.\n",
    "\n",
    "    6. Determina las condiciones de victoria y derrota del juego y sal del bucle cuando se cumplan estas condiciones."
   ]
  },
  {
   "cell_type": "code",
   "execution_count": null,
   "id": "d2c3dfc5",
   "metadata": {},
   "outputs": [
    {
     "name": "stdout",
     "output_type": "stream",
     "text": [
      "{'¿Cuál es la capital de Egipto?': 'Cairo', '¿En qué continente se pueden ver más pingüinos?': 'Antártida', '¿En qué país se encuentra la torre Eifeel?': 'Francia', '¿Berlín es la capital de?': 'Alemania', '¿De qué país son típicos los samurais?': 'Japón', '¿A dónde irías si quisieses ver canguros?': 'Australia', '¿A dónde irías si quisieras ver kiwis?': 'Nueva Zelanda', '¿En qué país es tradición pintarse la cara el día de los muertos?': 'México', '¿Tikka masala es un plato tradicional de?...': 'India'}\n",
      "¿De qué país son típicos los samurais?\n",
      "Respuesta correcta: Japón\n",
      "Llevas 1 aciertos\n",
      "Respuesta correcta: Japón\n",
      "Llevas 2 aciertos\n",
      "Respuesta correcta: Japón\n",
      "Llevas 3 aciertos\n",
      "Mala suerte, responde de nuevo\n",
      "Llevas 1 errores\n"
     ]
    }
   ],
   "source": [
    "cuestionario = {\"¿Cuál es la capital de Egipto?\":\"Cairo\", \"¿En qué continente se pueden ver más pingüinos?\" : \"Antártida\", \"¿En qué país se encuentra la torre Eifeel?\": \"Francia\", \"¿Berlín es la capital de?\" : \"Alemania\", \"¿De qué país son típicos los samurais?\" : \"Japón\", \"¿A dónde irías si quisieses ver canguros?\":\"Australia\", \"¿A dónde irías si quisieras ver kiwis?\":\"Nueva Zelanda\", \"¿En qué país es tradición pintarse la cara el día de los muertos?\": \"México\", \"¿Tikka masala es un plato tradicional de?...\": \"India\"}\n",
    "print(cuestionario)\n",
    "import random\n",
    "pregunta_aleatoria = random.choice(list(cuestionario.keys()))\n",
    "eleccion= input(pregunta_aleatoria)\n",
    "print(pregunta_aleatoria)\n",
    "respuesta_correcta = cuestionario[pregunta_aleatoria]\n",
    "intentosbuenos=5\n",
    "intentosmalos= 3\n",
    "aciertos = 0\n",
    "errores = 0\n",
    "\n",
    "\n",
    "while intentosbuenos != 0 and intentosmalos != 0:\n",
    "    eleccion= input(pregunta_aleatoria)\n",
    "\n",
    "    if eleccion == respuesta_correcta:\n",
    "        print (f\"Respuesta correcta: {respuesta_correcta}\")\n",
    "        aciertos = aciertos+1\n",
    "        intentosbuenos = intentosbuenos -1\n",
    "        print (f\"Llevas {aciertos} aciertos\")\n",
    "        \n",
    "    else:\n",
    "        print (\"Mala suerte, responde de nuevo\")\n",
    "        errores = errores +1\n",
    "        intentosmalos = intentosmalos -1\n",
    "        print (f\"Llevas {errores} errores\")\n",
    "\n",
    "\n"
   ]
  }
 ],
 "metadata": {
  "kernelspec": {
   "display_name": "base",
   "language": "python",
   "name": "python3"
  },
  "language_info": {
   "codemirror_mode": {
    "name": "ipython",
    "version": 3
   },
   "file_extension": ".py",
   "mimetype": "text/x-python",
   "name": "python",
   "nbconvert_exporter": "python",
   "pygments_lexer": "ipython3",
   "version": "3.12.7"
  }
 },
 "nbformat": 4,
 "nbformat_minor": 5
}
