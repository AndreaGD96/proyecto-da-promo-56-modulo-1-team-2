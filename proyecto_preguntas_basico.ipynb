{
 "cells": [
  {
   "cell_type": "markdown",
   "id": "980d6984",
   "metadata": {},
   "source": [
    "# Juego preguntas de geografía"
   ]
  },
  {
   "cell_type": "code",
   "execution_count": 5,
   "id": "f73d17b3",
   "metadata": {},
   "outputs": [
    {
     "name": "stdout",
     "output_type": "stream",
     "text": [
      "Respuesta correcta: Cairo\n",
      "Llevas 1 aciertos\n",
      "Respuesta correcta: Nueva Zelanda\n",
      "Llevas 2 aciertos\n",
      "Respuesta correcta: Alemania\n",
      "Llevas 3 aciertos\n",
      "Respuesta correcta: Francia\n",
      "Llevas 4 aciertos\n",
      "Respuesta correcta: India\n",
      "Llevas 5 aciertos\n",
      "Has ganado.\n"
     ]
    }
   ],
   "source": [
    "# Por mejorar: 1. Input (cambiar mayúsculas/minúsculas, limitar a caracteres no numéricos, etc.). 2. Incluir el código dentro de función/funciones. 3\n",
    "\n",
    "cuestionario = {\"¿Cuál es la capital de Egipto?\":\"Cairo\", \"¿En qué continente se pueden ver más pingüinos?\" : \"Antártida\", \"¿En qué país se encuentra la torre Eifeel?\": \"Francia\", \"¿Berlín es la capital de?\" : \"Alemania\", \"¿De qué país son típicos los samurais?\" : \"Japón\", \"¿A dónde irías si quisieses ver canguros?\":\"Australia\", \"¿A dónde irías si quisieras ver kiwis?\":\"Nueva Zelanda\", \"¿En qué país es tradición pintarse la cara el día de los muertos?\": \"México\", \"¿Tikka masala es un plato tradicional de?...\": \"India\"}\n",
    "\n",
    "import random\n",
    "intentosbuenos=5\n",
    "intentosmalos= 3\n",
    "aciertos = 0\n",
    "errores = 0\n",
    "\n",
    "# Cuando los aciertos sean 5 o los errores sean 3, el juego se tiene que parar.\n",
    "\n",
    "\n",
    "while intentosbuenos != 0 and intentosmalos != 0:\n",
    "    pregunta_aleatoria = random.choice(list(cuestionario.keys()))\n",
    "    respuesta_correcta = cuestionario[pregunta_aleatoria]\n",
    "    eleccion= (input(pregunta_aleatoria)).title()\n",
    "\n",
    "    if eleccion == respuesta_correcta:\n",
    "        print (f\"Respuesta correcta: {respuesta_correcta}\")\n",
    "        aciertos = aciertos+1\n",
    "        intentosbuenos = intentosbuenos -1\n",
    "        print (f\"Llevas {aciertos} aciertos\")\n",
    "\n",
    "        \n",
    "    else:\n",
    "        print (\"Mala suerte, responde de nuevo\")\n",
    "        errores = errores +1\n",
    "        intentosmalos = intentosmalos -1\n",
    "        print (f\"Llevas {errores} errores\")\n",
    "\n",
    "if aciertos==5:\n",
    "    print (\"Has ganado.\")\n",
    "else:\n",
    "    print (\"Has perdido.\")"
   ]
  },
  {
   "cell_type": "code",
   "execution_count": 6,
   "id": "802a798d",
   "metadata": {},
   "outputs": [],
   "source": [
    "# Abajo incluiremos el código anterior en una función. Esto es en caso de querer aplicar la misma lógica en otro conjunto de preguntas y respuestas\n",
    " \n",
    "def juego_preguntas(dic_preg_resp):\n",
    "    print(dic_preg_resp)\n",
    "    import random\n",
    "    intentosbuenos=5\n",
    "    intentosmalos=3\n",
    "    aciertos = 0\n",
    "    errores = 0\n",
    "\n",
    "    while intentosbuenos != 0 and intentosmalos != 0:\n",
    "        pregunta_aleatoria = random.choice(list(dic_preg_resp.keys()))\n",
    "        respuesta_correcta = dic_preg_resp[pregunta_aleatoria]\n",
    "        eleccion=(input(pregunta_aleatoria)).title()\n",
    "\n",
    "        if eleccion == respuesta_correcta:\n",
    "            print (f\"Respuesta correcta: {respuesta_correcta}\")\n",
    "            aciertos = aciertos+1\n",
    "            intentosbuenos = intentosbuenos -1\n",
    "            print (f\"Llevas {aciertos} aciertos\")\n",
    "\n",
    "        \n",
    "        else:\n",
    "            print (\"Mala suerte, responde de nuevo\")\n",
    "            errores = errores +1\n",
    "            intentosmalos = intentosmalos -1\n",
    "            print (f\"Llevas {errores} errores\")\n",
    "\n",
    "    if aciertos==5:\n",
    "        print (\"Has ganado.\")\n",
    "    else:\n",
    "        print (\"Has perdido.\")"
   ]
  },
  {
   "cell_type": "code",
   "execution_count": 7,
   "id": "d633be44",
   "metadata": {},
   "outputs": [
    {
     "name": "stdout",
     "output_type": "stream",
     "text": [
      "{'¿Cuál es la capital de Egipto?': 'Cairo', '¿En qué continente se pueden ver más pingüinos?': 'Antártida', '¿En qué país se encuentra la torre Eifeel?': 'Francia', '¿Berlín es la capital de?': 'Alemania', '¿De qué país son típicos los samurais?': 'Japón', '¿A dónde irías si quisieses ver canguros?': 'Australia', '¿A dónde irías si quisieras ver kiwis?': 'Nueva Zelanda', '¿En qué país es tradición pintarse la cara el día de los muertos?': 'México', '¿Tikka masala es un plato tradicional de?...': 'India'}\n",
      "Mala suerte, responde de nuevo\n",
      "Llevas 1 errores\n",
      "Mala suerte, responde de nuevo\n",
      "Llevas 2 errores\n",
      "Mala suerte, responde de nuevo\n",
      "Llevas 3 errores\n",
      "Has perdido.\n"
     ]
    }
   ],
   "source": [
    "juego_preguntas(cuestionario)"
   ]
  }
 ],
 "metadata": {
  "kernelspec": {
   "display_name": "Python 3",
   "language": "python",
   "name": "python3"
  },
  "language_info": {
   "codemirror_mode": {
    "name": "ipython",
    "version": 3
   },
   "file_extension": ".py",
   "mimetype": "text/x-python",
   "name": "python",
   "nbconvert_exporter": "python",
   "pygments_lexer": "ipython3",
   "version": "3.11.9"
  }
 },
 "nbformat": 4,
 "nbformat_minor": 5
}
